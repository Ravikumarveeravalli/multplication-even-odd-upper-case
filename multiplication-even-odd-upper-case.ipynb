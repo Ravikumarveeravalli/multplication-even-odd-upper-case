{
 "cells": [
  {
   "cell_type": "code",
   "execution_count": 1,
   "id": "f6d21e0d",
   "metadata": {},
   "outputs": [],
   "source": [
    "def mul (x,y):\n",
    "    for y in range(1,y+1):\n",
    "        z=x*y\n",
    "        print(\"{}*{}={}\".format(x,y,z))"
   ]
  },
  {
   "cell_type": "code",
   "execution_count": 2,
   "id": "a5263230",
   "metadata": {},
   "outputs": [
    {
     "name": "stdout",
     "output_type": "stream",
     "text": [
      "5*1=5\n",
      "5*2=10\n",
      "5*3=15\n",
      "5*4=20\n",
      "5*5=25\n",
      "5*6=30\n",
      "5*7=35\n",
      "5*8=40\n",
      "5*9=45\n",
      "5*10=50\n"
     ]
    }
   ],
   "source": [
    "mul(5,10)"
   ]
  },
  {
   "cell_type": "code",
   "execution_count": 14,
   "id": "2f7c78e4",
   "metadata": {},
   "outputs": [],
   "source": [
    "def sun(x):\n",
    "    y=\"\"\n",
    "    for n in range(len(x)):\n",
    "        if n%2==0:\n",
    "            y+=(x[n].upper())\n",
    "        else:\n",
    "            y+=(x[n].lower())\n",
    "    return y    "
   ]
  },
  {
   "cell_type": "code",
   "execution_count": 15,
   "id": "bd6f99ba",
   "metadata": {},
   "outputs": [
    {
     "data": {
      "text/plain": [
       "'AbCdEfGhIjKl'"
      ]
     },
     "execution_count": 15,
     "metadata": {},
     "output_type": "execute_result"
    }
   ],
   "source": [
    "sun(\"ABCDEFGHIJKL\")"
   ]
  },
  {
   "cell_type": "code",
   "execution_count": 16,
   "id": "56f693bb",
   "metadata": {},
   "outputs": [],
   "source": [
    "def sun(x):\n",
    "    y=\"\"\n",
    "    for n in range(len(x)):\n",
    "        if n%2!=0:\n",
    "            y+=(x[n].upper())\n",
    "        else:\n",
    "            y+=(x[n].lower())\n",
    "    return y    "
   ]
  },
  {
   "cell_type": "code",
   "execution_count": 17,
   "id": "84c833ce",
   "metadata": {},
   "outputs": [
    {
     "data": {
      "text/plain": [
       "'aBcDeFgHiJk'"
      ]
     },
     "execution_count": 17,
     "metadata": {},
     "output_type": "execute_result"
    }
   ],
   "source": [
    "sun(\"abcdefghijk\")"
   ]
  },
  {
   "cell_type": "code",
   "execution_count": null,
   "id": "81b04bdb",
   "metadata": {},
   "outputs": [],
   "source": []
  }
 ],
 "metadata": {
  "kernelspec": {
   "display_name": "Python 3 (ipykernel)",
   "language": "python",
   "name": "python3"
  },
  "language_info": {
   "codemirror_mode": {
    "name": "ipython",
    "version": 3
   },
   "file_extension": ".py",
   "mimetype": "text/x-python",
   "name": "python",
   "nbconvert_exporter": "python",
   "pygments_lexer": "ipython3",
   "version": "3.9.13"
  }
 },
 "nbformat": 4,
 "nbformat_minor": 5
}
